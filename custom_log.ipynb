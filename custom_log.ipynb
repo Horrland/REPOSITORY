{
 "cells": [
  {
   "cell_type": "code",
   "execution_count": null,
   "metadata": {},
   "outputs": [],
   "source": [
    "import math, matplotlib_inline\n",
    "\n",
    "iterations = 50\n",
    "\n",
    "def custom_ln(x):    \n",
    "    sum = 0\n",
    "    x -= 1\n",
    "    for n in range (0, iterations):\n",
    "      sum += ((-1)**n) * (x**(n + 1)) / (n + 1)\n",
    "    return sum\n",
    "\n",
    "print (\"Введите аргумент логарифма 0 < x < 1: \")\n",
    "arg = input()\n",
    "print (\"Наш уникальный логарифм: \", custom_ln(float (arg)))\n",
    "print (\"Их заурядный логарифм:   \", math.log (float (arg)))\n",
    "\n",
    "from IPython.display import set_matplotlib_formats\n",
    "set_matplotlib_formats('pdf', 'svg')\n",
    "\n",
    "import matplotlib.pyplot as plt\n",
    "import numpy as np\n",
    "\n",
    "%matplotlib inline\n",
    "\n",
    "vs = np.vectorize(custom_ln)\n",
    "print(custom_ln, vs)\n",
    "\n",
    "angles = np.r_[-0.1:2.14:0.01]\n",
    "plt.plot(angles, np.log(angles), linewidth=6, color = 'orange', alpha=0.6)\n",
    "plt.plot(angles, vs(angles), color='black', linewidth=1.5, linestyle='dashed')\n",
    "plt.show()"
   ]
  }
 ],
 "metadata": {
  "interpreter": {
   "hash": "e87104f30419d7b8266afd50b87d47b7e265e6b090a65785fdeaeed5d58d5a0a"
  },
  "kernelspec": {
   "display_name": "Python 3.8.6 64-bit",
   "name": "python3"
  },
  "language_info": {
   "codemirror_mode": {
    "name": "ipython",
    "version": 3
   },
   "file_extension": ".py",
   "mimetype": "text/x-python",
   "name": "python",
   "nbconvert_exporter": "python",
   "pygments_lexer": "ipython3",
   "version": "3.8.6"
  },
  "orig_nbformat": 4
 },
 "nbformat": 4,
 "nbformat_minor": 2
}
