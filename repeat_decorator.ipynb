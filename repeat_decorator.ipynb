{
 "cells": [
  {
   "cell_type": "code",
   "execution_count": 3,
   "metadata": {},
   "outputs": [
    {
     "name": "stdout",
     "output_type": "stream",
     "text": [
      "5\n",
      "4\n"
     ]
    }
   ],
   "source": [
    "def repeat(n):\n",
    "    def act_decorator(arg_function):\n",
    "        def fake_function(x):\n",
    "            if n != 0:\n",
    "                for i in range(n):\n",
    "                    result = arg_function(x)\n",
    "                    x = result\n",
    "            else:\n",
    "                result = x\n",
    "            return result\n",
    "        return fake_function\n",
    "    return act_decorator\n",
    "\n",
    "@repeat(2)\n",
    "def plus_1(x):\n",
    "    return x + 1\n",
    "\n",
    "\n",
    "@repeat(0)\n",
    "def mul_2(x):\n",
    "    return x * 2\n",
    "\n",
    "\n",
    "print(plus_1(3))  # должно выдать 5\n",
    "print(mul_2(4))  # должно выдать 4"
   ]
  },
  {
   "cell_type": "markdown",
   "metadata": {},
   "source": [
    "И показывать полезные фокусы"
   ]
  }
 ],
 "metadata": {
  "kernelspec": {
   "display_name": "Python 3",
   "language": "python",
   "name": "python3"
  },
  "language_info": {
   "codemirror_mode": {
    "name": "ipython",
    "version": 3
   },
   "file_extension": ".py",
   "mimetype": "text/x-python",
   "name": "python",
   "nbconvert_exporter": "python",
   "pygments_lexer": "ipython3",
   "version": "3.8.6"
  }
 },
 "nbformat": 4,
 "nbformat_minor": 4
}
